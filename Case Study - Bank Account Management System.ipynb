{
 "cells": [
  {
   "cell_type": "code",
   "execution_count": 3,
   "id": "8cd010b1-3c6b-4180-84ed-1690da122d62",
   "metadata": {},
   "outputs": [
    {
     "name": "stdout",
     "output_type": "stream",
     "text": [
      "---------- Welcome to Bank of Binay ----------\n",
      "\n",
      "1. Open an Account\n",
      "2. View Account Details\n",
      "3. Perform Transaction (Deposit/Withdraw/Transfer)\n",
      "4. View Transaction History\n",
      "5. Exit\n",
      "\n"
     ]
    },
    {
     "name": "stdin",
     "output_type": "stream",
     "text": [
      "Enter your choice (1-5):  1\n"
     ]
    },
    {
     "name": "stdout",
     "output_type": "stream",
     "text": [
      "\n",
      "--- Open New Account ---\n"
     ]
    },
    {
     "name": "stdin",
     "output_type": "stream",
     "text": [
      "Enter First Name:  Binay\n",
      "Enter Last Name:  Kumar Naik\n",
      "Enter PAN Card Number:  CPYPN0692P\n",
      "Enter Account Type (Savings/Current):  Savings\n",
      "Enter initial deposit amount:  5000\n"
     ]
    },
    {
     "name": "stdout",
     "output_type": "stream",
     "text": [
      "\n",
      "✅ Account Created Successfully!\n",
      "Your Username: binay43\n",
      "Your Password: 7877\n",
      "Your Account Number: 11111222226047\n",
      "Account Type: Savings\n",
      "Initial Balance: ₹ 5000.0 \n",
      "\n",
      "\n",
      "1. Open an Account\n",
      "2. View Account Details\n",
      "3. Perform Transaction (Deposit/Withdraw/Transfer)\n",
      "4. View Transaction History\n",
      "5. Exit\n",
      "\n"
     ]
    },
    {
     "name": "stdin",
     "output_type": "stream",
     "text": [
      "Enter your choice (1-5):  2\n"
     ]
    },
    {
     "name": "stdout",
     "output_type": "stream",
     "text": [
      "\n",
      "--- View Account Details ---\n"
     ]
    },
    {
     "name": "stdin",
     "output_type": "stream",
     "text": [
      "Enter Username:  Binay\n",
      "Enter Password:  Kumar Naik\n",
      "Enter PAN Card Number:  CPYPN0692P\n"
     ]
    },
    {
     "name": "stdout",
     "output_type": "stream",
     "text": [
      "❌ Authentication failed. Try again.\n",
      "\n",
      "\n",
      "1. Open an Account\n",
      "2. View Account Details\n",
      "3. Perform Transaction (Deposit/Withdraw/Transfer)\n",
      "4. View Transaction History\n",
      "5. Exit\n",
      "\n"
     ]
    },
    {
     "name": "stdin",
     "output_type": "stream",
     "text": [
      "Enter your choice (1-5):  5\n"
     ]
    },
    {
     "name": "stdout",
     "output_type": "stream",
     "text": [
      "\n",
      "Thank you for banking with Bank of Binay. Goodbye! 👋\n"
     ]
    }
   ],
   "source": [
    "import random\n",
    "import datetime\n",
    "\n",
    "# Global data stores\n",
    "credentials = {}\n",
    "users_db = {}\n",
    "passbook = {}\n",
    "\n",
    "def generate_account_number():\n",
    "    base = \"1111122222\"\n",
    "    return base + ''.join(str(random.randint(0, 9)) for _ in range(4))\n",
    "\n",
    "def generate_username(fname):\n",
    "    return fname.lower() + ''.join(str(random.randint(0, 9)) for _ in range(2))\n",
    "\n",
    "def generate_password():\n",
    "    return ''.join(str(random.randint(0, 9)) for _ in range(4))\n",
    "\n",
    "def open_account():\n",
    "    print(\"\\n--- Open New Account ---\")\n",
    "    fname = input(\"Enter First Name: \")\n",
    "    lname = input(\"Enter Last Name: \")\n",
    "    pan = input(\"Enter PAN Card Number: \")\n",
    "\n",
    "    if pan in users_db:\n",
    "        print(\"Account already exists. Try logging in.\\n\")\n",
    "        return\n",
    "\n",
    "    acc_num = generate_account_number()\n",
    "    acc_type = input(\"Enter Account Type (Savings/Current): \")\n",
    "    try:\n",
    "        balance = float(input(\"Enter initial deposit amount: \"))\n",
    "    except ValueError:\n",
    "        print(\"Invalid amount entered. Try again.\")\n",
    "        return\n",
    "\n",
    "    username = generate_username(fname)\n",
    "    password = generate_password()\n",
    "\n",
    "    credentials[username] = password\n",
    "    users_db[pan] = [fname, lname, acc_num, acc_type, balance]\n",
    "\n",
    "    print(\"\\n✅ Account Created Successfully!\")\n",
    "    print(\"Your Username:\", username)\n",
    "    print(\"Your Password:\", password)\n",
    "    print(\"Your Account Number:\", acc_num)\n",
    "    print(\"Account Type:\", acc_type)\n",
    "    print(\"Initial Balance: ₹\", balance, \"\\n\")\n",
    "\n",
    "def authenticate():\n",
    "    username = input(\"Enter Username: \")\n",
    "    password = input(\"Enter Password: \")\n",
    "    pan = input(\"Enter PAN Card Number: \")\n",
    "\n",
    "    if username in credentials and credentials[username] == password and pan in users_db:\n",
    "        return pan\n",
    "    else:\n",
    "        print(\"❌ Authentication failed. Try again.\\n\")\n",
    "        return None\n",
    "\n",
    "def view_account():\n",
    "    print(\"\\n--- View Account Details ---\")\n",
    "    pan = authenticate()\n",
    "    if pan:\n",
    "        fname, lname, acc_num, acc_type, balance = users_db[pan]\n",
    "        print(f\"Account Holder: {fname} {lname}\")\n",
    "        print(f\"Account Number: {acc_num}\")\n",
    "        print(f\"Account Type: {acc_type}\")\n",
    "        print(f\"Available Balance: ₹ {balance}\\n\")\n",
    "\n",
    "def perform_transaction():\n",
    "    print(\"\\n--- Perform Transaction ---\")\n",
    "    pan = authenticate()\n",
    "    if not pan:\n",
    "        return\n",
    "\n",
    "    print(\"\\n1. Deposit\\n2. Withdraw\\n3. Transfer\")\n",
    "    choice = input(\"Choose transaction type: \").strip().lower()\n",
    "\n",
    "    try:\n",
    "        amount = float(input(\"Enter amount: \"))\n",
    "    except ValueError:\n",
    "        print(\"Invalid amount entered.\\n\")\n",
    "        return\n",
    "\n",
    "    timestamp = datetime.datetime.now()\n",
    "\n",
    "    if choice == \"1\" or choice == \"deposit\":\n",
    "        users_db[pan][4] += amount\n",
    "        print(\"✅ Deposit successful. Current Balance: ₹\", users_db[pan][4])\n",
    "\n",
    "    elif choice == \"2\" or choice == \"withdraw\":\n",
    "        if amount > users_db[pan][4]:\n",
    "            print(\"❌ Insufficient balance.\")\n",
    "            return\n",
    "        users_db[pan][4] -= amount\n",
    "        print(\"✅ Withdrawal successful. Remaining Balance: ₹\", users_db[pan][4])\n",
    "\n",
    "    elif choice == \"3\" or choice == \"transfer\":\n",
    "        receiver_pan = input(\"Enter receiver's PAN Card: \")\n",
    "        if receiver_pan not in users_db:\n",
    "            print(\"❌ Receiver not found.\")\n",
    "            return\n",
    "        if amount > users_db[pan][4]:\n",
    "            print(\"❌ Insufficient balance for transfer.\")\n",
    "            return\n",
    "        users_db[pan][4] -= amount\n",
    "        users_db[receiver_pan][4] += amount\n",
    "        print(\"✅ Transfer successful. Remaining Balance: ₹\", users_db[pan][4])\n",
    "    else:\n",
    "        print(\"❌ Invalid transaction type.\")\n",
    "        return\n",
    "\n",
    "    # Record transaction\n",
    "    if pan not in passbook:\n",
    "        passbook[pan] = {}\n",
    "    passbook[pan][timestamp] = [choice.capitalize(), amount, users_db[pan][4]]\n",
    "\n",
    "def view_transaction_history():\n",
    "    print(\"\\n--- Transaction History ---\")\n",
    "    pan = authenticate()\n",
    "    if not pan:\n",
    "        return\n",
    "\n",
    "    if pan in passbook:\n",
    "        print(\"\\nTimestamp                 | Type     | Amount   | Balance\")\n",
    "        print(\"-\" * 55)\n",
    "        for ts, tx in sorted(passbook[pan].items()):\n",
    "            print(f\"{ts.strftime('%Y-%m-%d %H:%M:%S')} | {tx[0]:<8} | ₹{tx[1]:<7} | ₹{tx[2]}\")\n",
    "        print()\n",
    "    else:\n",
    "        print(\"No transactions available for this account.\\n\")\n",
    "\n",
    "def main():\n",
    "    print(\"-\" * 10, \"Welcome to Bank of Binay\", \"-\" * 10)\n",
    "\n",
    "    while True:\n",
    "        print(\"\"\"\n",
    "1. Open an Account\n",
    "2. View Account Details\n",
    "3. Perform Transaction (Deposit/Withdraw/Transfer)\n",
    "4. View Transaction History\n",
    "5. Exit\n",
    "\"\"\")\n",
    "\n",
    "        try:\n",
    "            choice = int(input(\"Enter your choice (1-5): \"))\n",
    "        except ValueError:\n",
    "            print(\"Please enter a valid number.\\n\")\n",
    "            continue\n",
    "\n",
    "        if choice == 1:\n",
    "            open_account()\n",
    "        elif choice == 2:\n",
    "            view_account()\n",
    "        elif choice == 3:\n",
    "            perform_transaction()\n",
    "        elif choice == 4:\n",
    "            view_transaction_history()\n",
    "        elif choice == 5:\n",
    "            print(\"\\nThank you for banking with Bank of Binay. Goodbye! 👋\")\n",
    "            break\n",
    "        else:\n",
    "            print(\"❌ Invalid choice. Try again.\\n\")\n",
    "\n",
    "if __name__ == \"__main__\":\n",
    "    main()\n"
   ]
  },
  {
   "cell_type": "code",
   "execution_count": null,
   "id": "f19db405-db02-4281-8ab3-110ae8d88482",
   "metadata": {},
   "outputs": [],
   "source": []
  }
 ],
 "metadata": {
  "kernelspec": {
   "display_name": "Python 3 (ipykernel)",
   "language": "python",
   "name": "python3"
  },
  "language_info": {
   "codemirror_mode": {
    "name": "ipython",
    "version": 3
   },
   "file_extension": ".py",
   "mimetype": "text/x-python",
   "name": "python",
   "nbconvert_exporter": "python",
   "pygments_lexer": "ipython3",
   "version": "3.13.2"
  }
 },
 "nbformat": 4,
 "nbformat_minor": 5
}
